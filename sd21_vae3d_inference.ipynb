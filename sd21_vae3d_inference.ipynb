{
 "cells": [
  {
   "cell_type": "code",
   "execution_count": null,
   "metadata": {},
   "outputs": [],
   "source": [
    "import torch\n",
    "import os\n",
    "import numpy as np\n",
    "import csv\n",
    "from PIL import Image\n",
    "from transformers import CLIPImageProcessor, CLIPVisionModelWithProjection\n",
    "from diffusers import AutoencoderKLTemporalDecoder, EulerDiscreteScheduler, UNetSpatioTemporalConditionModel\n",
    "from omegaconf import OmegaConf\n",
    "\n",
    "from cv_vae.pipelines.pipeline_stable_diffusion import StableDiffusionPipeline as StableDiffusionPipeline3DVAE\n",
    "from cv_vae.models.modeling_vae import CVVAEModel\n",
    "from diffusers import EulerDiscreteScheduler\n",
    "from diffusers import StableDiffusionPipeline as StableDiffusionPipeline2DVAE"
   ]
  },
  {
   "cell_type": "code",
   "execution_count": null,
   "metadata": {},
   "outputs": [],
   "source": [
    "pretrained_path = 'stabilityai/stable-diffusion-2-1-base'\n",
    "vae3d_path = 'AILab-CVC/CV-VAE'\n",
    "\n",
    "height = 512\n",
    "width = 512\n",
    "seed=42\n",
    "torch.cuda.set_device('cuda:0')"
   ]
  },
  {
   "cell_type": "code",
   "execution_count": null,
   "metadata": {},
   "outputs": [],
   "source": [
    "scheduler = EulerDiscreteScheduler.from_pretrained(pretrained_path, subfolder=\"scheduler\")\n",
    "vae3d = CVVAEModel.from_pretrained(vae3d_path,subfolder=\"vae3d\",torch_dtype=torch.float16)\n",
    "vae3d.requires_grad_(False)\n",
    "pipe_3dvae = StableDiffusionPipeline3DVAE.from_pretrained(pretrained_path,vae=vae3d, scheduler=scheduler, torch_dtype=torch.float16)\n",
    "pipe_2dvae = StableDiffusionPipeline2DVAE.from_pretrained(pretrained_path, scheduler=scheduler, torch_dtype=torch.float16)\n",
    "\n",
    "prompt = 'a lion, colorful, low-poly, cyan and orange eyes, poly- hd, 3d, low-poly game art, polygon mesh, blocky, centered composition'\n",
    "\n",
    "\n",
    "pipe_3dvae = pipe_3dvae.to(\"cuda\")\n",
    "pipe_2dvae = pipe_2dvae.to(\"cuda\")\n",
    "\n",
    "torch.manual_seed(seed)\n",
    "shape = (\n",
    "    1,\n",
    "    4,\n",
    "    height // 8,\n",
    "    width // 8,\n",
    ")\n",
    "latents = torch.randn(shape).to('cuda',dtype=torch.float16)\n",
    "\n",
    "image1 = pipe_2dvae(prompt,latents=latents).images[0]\n",
    "image2 = pipe_3dvae(prompt,latents=latents).images[0]\n",
    "\n",
    "print('Text-to-image generation result with 2D VAE')\n",
    "image1.show()\n",
    "print('Text-to-image generation result with CV-VAE (3D)')\n",
    "image2.show()"
   ]
  }
 ],
 "metadata": {
  "kernelspec": {
   "display_name": "Python 3 (ipykernel)",
   "language": "python",
   "name": "python3"
  },
  "language_info": {
   "codemirror_mode": {
    "name": "ipython",
    "version": 3
   },
   "file_extension": ".py",
   "mimetype": "text/x-python",
   "name": "python",
   "nbconvert_exporter": "python",
   "pygments_lexer": "ipython3",
   "version": "3.10.14"
  }
 },
 "nbformat": 4,
 "nbformat_minor": 4
}
